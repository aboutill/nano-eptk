{
 "cells": [
  {
   "cell_type": "markdown",
   "id": "7bf46087-30b6-484c-b8b8-d61047eb9a6e",
   "metadata": {},
   "source": [
    "# Group-level satistical analysis of brain electrical properties  - Diagnostic tests\n",
    "This notebooks provides the diagnostic tests performed to assess the robustness of the models used in the group-level satistical analysis of brain electrical properties ($\\sigma$ and $\\epsilon_r$).\n",
    "\n",
    "Part of nano-eptk package by Arnaud Boutillon (arnaud.boutillon@kcl.ac.uk)."
   ]
  },
  {
   "cell_type": "markdown",
   "id": "b72be8d9-e8ec-4c16-ac85-3d679f276d1f",
   "metadata": {},
   "source": [
    "## Python environment setting"
   ]
  },
  {
   "cell_type": "code",
   "execution_count": 1,
   "id": "c2581f72-9290-4687-9109-cca2428a3738",
   "metadata": {},
   "outputs": [],
   "source": [
    "import os\n",
    "import sys\n",
    "import warnings\n",
    "\n",
    "import numpy as np\n",
    "import pandas as pd\n",
    "import statsmodels.formula.api as smf\n",
    "import statsmodels.api as sm\n",
    "\n",
    "from statsmodels.stats.outliers_influence import variance_inflation_factor\n",
    "from statsmodels.tools.tools import add_constant\n",
    "from statsmodels.stats.diagnostic import het_breuschpagan, het_white\n",
    "\n",
    "base_dir = os.path.abspath(os.path.join(os.path.pardir, os.path.pardir))\n",
    "\n",
    "warnings.filterwarnings(\"ignore\")"
   ]
  },
  {
   "cell_type": "markdown",
   "id": "7fb74996-ad97-4902-a6db-6ecea26ff047",
   "metadata": {},
   "source": [
    "## 1. Neonatal data\n",
    "Diagnostic tests were performed on subjects whose postmenstrual age (PMA) $\\geq$ 37 weeks so that both term-born and preterm infants are considered at similar age at scan; $n = 534$ subjects were considered in total. "
   ]
  },
  {
   "cell_type": "code",
   "execution_count": 2,
   "id": "07b2b948-58bd-49dd-b5a5-4563bef404d8",
   "metadata": {},
   "outputs": [
    {
     "name": "stdout",
     "output_type": "stream",
     "text": [
      "dHCP sessions n = 534\n",
      "dHCP subjects m = 534\n"
     ]
    }
   ],
   "source": [
    "# Load dataframe\n",
    "csv_dir = os.path.join(base_dir, \"data\", \"cohorts_csv\")\n",
    "df_path = os.path.join(csv_dir, \"dHCP_filtered_MD_RVV_PMA.csv\")\n",
    "df = pd.read_csv(df_path)\n",
    "\n",
    "# Display cohort size\n",
    "print(f\"dHCP sessions n = {len(df.index)}\")\n",
    "print(f\"dHCP subjects m = {df['subject_id'].nunique()}\")"
   ]
  },
  {
   "cell_type": "markdown",
   "id": "7bbd7fc1-5e4a-4e5a-8193-72503b7f691f",
   "metadata": {},
   "source": [
    "## 2. Variance inflation factors (VIFs)\n",
    "We computed the variance inflation factors (VIF) to measure the magnitude of multicollinearity between regressors: postmenstrual age (PMA), preterm birth (PTB), relative ventricle volume (RVV) and mean diffusivity (MD). All calculated VIF values were below the commonly accepted threshold of $5$, suggesting limited multicollinearity and reliable estimation of regression coefficients."
   ]
  },
  {
   "cell_type": "code",
   "execution_count": 3,
   "id": "f4373092-ec82-4004-adda-79dc057fe98e",
   "metadata": {},
   "outputs": [
    {
     "name": "stdout",
     "output_type": "stream",
     "text": [
      "VIF PMA: 1.37\n",
      "VIF RVV: 1.24\n",
      "VIF brain_MD: 1.66\n",
      "VIF PTB: 1.51\n"
     ]
    }
   ],
   "source": [
    "# Load dataframe\n",
    "df = pd.read_csv(df_path)\n",
    "\n",
    "# Data header\n",
    "x_cols = [\"PMA\", \"RVV\", \"brain_MD\", \"PTB\"]\n",
    "\n",
    "# For VIF\n",
    "df = df[x_cols]\n",
    "df = add_constant(df)\n",
    "\n",
    "# Iter over regressors\n",
    "for i in range(1, df.shape[1]):\n",
    "\n",
    "    # Compute and display VIF\n",
    "    vif = variance_inflation_factor(df.values, i)\n",
    "    print(f\"VIF {df.columns[i]}: {vif:.2f}\")"
   ]
  },
  {
   "cell_type": "markdown",
   "id": "ed81d205-19dd-4e3a-bd62-ae8400c39cf9",
   "metadata": {},
   "source": [
    "## 3. Non-linear and interaction terms\n",
    "Interaction terms between predictors were included in the multivariate model to assess, for example, whether prematurity had an non-linear effect on the relationship between conductivity and development (i.e. $\\textrm{PMA} \\times \\textrm{PTB}$ interaction). Similarly, we tried incorporating quadratic and cubic terms (e.g. $\\textrm{PMA}^2$ or $\\textrm{PMA}^3$) in our models. However, none of these non-linear interaction resulted in a better model fit, so these interaction terms were discarded from the statistical analysis."
   ]
  },
  {
   "cell_type": "code",
   "execution_count": 4,
   "id": "62f7d020-f82f-4ad1-84d5-5e20d8acea8d",
   "metadata": {},
   "outputs": [
    {
     "name": "stdout",
     "output_type": "stream",
     "text": [
      "                            OLS Regression Results                            \n",
      "==============================================================================\n",
      "Dep. Variable:              brain_SIG   R-squared:                       0.352\n",
      "Model:                            OLS   Adj. R-squared:                  0.348\n",
      "Method:                 Least Squares   F-statistic:                     71.99\n",
      "Date:                Thu, 07 Aug 2025   Prob (F-statistic):           1.12e-48\n",
      "Time:                        17:15:03   Log-Likelihood:                 944.08\n",
      "No. Observations:                 534   AIC:                            -1878.\n",
      "Df Residuals:                     529   BIC:                            -1857.\n",
      "Df Model:                           4                                         \n",
      "Covariance Type:            nonrobust                                         \n",
      "==============================================================================\n",
      "                 coef    std err          t      P>|t|      [0.025      0.975]\n",
      "------------------------------------------------------------------------------\n",
      "Intercept      1.1529      0.002    642.024      0.000       1.149       1.156\n",
      "PMA           -0.0084      0.001     -7.148      0.000      -0.011      -0.006\n",
      "RVV            0.0168      0.005      3.215      0.001       0.007       0.027\n",
      "brain_MD       0.3233      0.056      5.824      0.000       0.214       0.432\n",
      "PTB            0.0022      0.001      3.856      0.000       0.001       0.003\n",
      "==============================================================================\n",
      "Omnibus:                        9.437   Durbin-Watson:                   1.835\n",
      "Prob(Omnibus):                  0.009   Jarque-Bera (JB):               11.382\n",
      "Skew:                          -0.208   Prob(JB):                      0.00338\n",
      "Kurtosis:                       3.582   Cond. No.                         121.\n",
      "==============================================================================\n",
      "\n",
      "Notes:\n",
      "[1] Standard Errors assume that the covariance matrix of the errors is correctly specified.\n",
      "\n",
      "                            OLS Regression Results                            \n",
      "==============================================================================\n",
      "Dep. Variable:              brain_SIG   R-squared:                       0.354\n",
      "Model:                            OLS   Adj. R-squared:                  0.348\n",
      "Method:                 Least Squares   F-statistic:                     57.93\n",
      "Date:                Thu, 07 Aug 2025   Prob (F-statistic):           5.00e-48\n",
      "Time:                        17:15:03   Log-Likelihood:                 944.81\n",
      "No. Observations:                 534   AIC:                            -1878.\n",
      "Df Residuals:                     528   BIC:                            -1852.\n",
      "Df Model:                           5                                         \n",
      "Covariance Type:            nonrobust                                         \n",
      "==============================================================================\n",
      "                 coef    std err          t      P>|t|      [0.025      0.975]\n",
      "------------------------------------------------------------------------------\n",
      "Intercept      1.1526      0.002    636.853      0.000       1.149       1.156\n",
      "PMA           -0.0083      0.001     -7.048      0.000      -0.011      -0.006\n",
      "RVV            0.0169      0.005      3.235      0.001       0.007       0.027\n",
      "brain_MD       0.3127      0.056      5.564      0.000       0.202       0.423\n",
      "PTB            0.0024      0.001      4.034      0.000       0.001       0.004\n",
      "PMA:PTB       -0.0004      0.000     -1.201      0.230      -0.001       0.000\n",
      "==============================================================================\n",
      "Omnibus:                        9.235   Durbin-Watson:                   1.836\n",
      "Prob(Omnibus):                  0.010   Jarque-Bera (JB):               11.315\n",
      "Skew:                          -0.197   Prob(JB):                      0.00349\n",
      "Kurtosis:                       3.594   Cond. No.                         216.\n",
      "==============================================================================\n",
      "\n",
      "Notes:\n",
      "[1] Standard Errors assume that the covariance matrix of the errors is correctly specified.\n",
      "\n",
      "                            OLS Regression Results                            \n",
      "==============================================================================\n",
      "Dep. Variable:              brain_SIG   R-squared:                       0.353\n",
      "Model:                            OLS   Adj. R-squared:                  0.347\n",
      "Method:                 Least Squares   F-statistic:                     57.65\n",
      "Date:                Thu, 07 Aug 2025   Prob (F-statistic):           7.76e-48\n",
      "Time:                        17:15:03   Log-Likelihood:                 944.36\n",
      "No. Observations:                 534   AIC:                            -1877.\n",
      "Df Residuals:                     528   BIC:                            -1851.\n",
      "Df Model:                           5                                         \n",
      "Covariance Type:            nonrobust                                         \n",
      "===============================================================================\n",
      "                  coef    std err          t      P>|t|      [0.025      0.975]\n",
      "-------------------------------------------------------------------------------\n",
      "Intercept       1.1517      0.002    482.484      0.000       1.147       1.156\n",
      "PMA            -0.0083      0.001     -7.066      0.000      -0.011      -0.006\n",
      "RVV             0.0163      0.005      3.099      0.002       0.006       0.027\n",
      "brain_MD        0.3228      0.056      5.811      0.000       0.214       0.432\n",
      "PTB             0.0022      0.001      3.838      0.000       0.001       0.003\n",
      "I(PMA ** 2)     0.0004      0.000      0.743      0.458      -0.001       0.001\n",
      "==============================================================================\n",
      "Omnibus:                        9.061   Durbin-Watson:                   1.837\n",
      "Prob(Omnibus):                  0.011   Jarque-Bera (JB):               10.967\n",
      "Skew:                          -0.198   Prob(JB):                      0.00416\n",
      "Kurtosis:                       3.579   Cond. No.                         155.\n",
      "==============================================================================\n",
      "\n",
      "Notes:\n",
      "[1] Standard Errors assume that the covariance matrix of the errors is correctly specified.\n"
     ]
    }
   ],
   "source": [
    "# Set file path\n",
    "summary_dir = os.path.join(base_dir, \"statsmodels\")\n",
    "summary_path = os.path.join(summary_dir, \"diagnostic_experiment1.txt\")\n",
    "\n",
    "# Load dataframe\n",
    "df = pd.read_csv(df_path) \n",
    "\n",
    "# Data header\n",
    "y_col = \"brain_SIG\"\n",
    "x_cols = [\"PMA\", \"RVV\", \"brain_MD\", \"PTB\"]\n",
    "\n",
    "# Center data\n",
    "for x_col in x_cols:\n",
    "    df[x_col] -= df[x_col].mean()\n",
    "\n",
    "# Fit linear model\n",
    "formula = f\"{y_col} ~  {' + '.join(x_cols)}\"\n",
    "lm = smf.ols(formula=formula, data=df).fit()\n",
    "\n",
    "# Fit linear model with interaction\n",
    "formula_inter = f\"{y_col} ~  {' + '.join(x_cols)} + PMA*PTB\"\n",
    "lm_inter = smf.ols(formula=formula_inter, data=df).fit()\n",
    "\n",
    "# Fit linear model with non-linear term\n",
    "formula_nl = f\"{y_col} ~  {' + '.join(x_cols)} + I(PMA**2)\"\n",
    "lm_nl = smf.ols(formula=formula_nl, data=df).fit()\n",
    "\n",
    "# Initialize output directory\n",
    "output_dir = os.path.dirname(summary_path)\n",
    "os.makedirs(output_dir, exist_ok=True)\n",
    "\n",
    "# Write summary\n",
    "with open(summary_path, \"w\") as fh:\n",
    "    fh.write(lm.summary().as_text())\n",
    "    fh.write(\"\\n\\n\")\n",
    "    fh.write(lm_inter.summary().as_text())\n",
    "    fh.write(\"\\n\\n\")\n",
    "    fh.write(lm_nl.summary().as_text())\n",
    "\n",
    "# Model summary\n",
    "f = open(summary_path, 'r')\n",
    "file_contents = f.read()\n",
    "print(file_contents)\n",
    "f.close()"
   ]
  },
  {
   "cell_type": "markdown",
   "id": "025bf94a-b7b8-4d45-8078-6740b731d54d",
   "metadata": {},
   "source": [
    "Both the $\\textrm{PMA} \\times \\textrm{PTB}$ interaction and non-linear $\\textrm{PMA}^2$ terms are non-significant (*p* = 0.230 and *p* = 0.458)."
   ]
  },
  {
   "cell_type": "markdown",
   "id": "167f96ac-efbd-444d-8408-1fb20d07ca36",
   "metadata": {},
   "source": [
    "## 4. Heteroscedasticity test\n",
    "Heteroscedasticity tests revealed no evidence of variance heterogeneity in the residuals. Consequently, we did not apply heteroscedasticity correction, as it is rarely used in conjunction with linear mixed-effects (LME) models."
   ]
  },
  {
   "cell_type": "code",
   "execution_count": 5,
   "id": "6f50b542-3c99-4b8a-9e50-b9a1ed2af3b4",
   "metadata": {},
   "outputs": [
    {
     "name": "stdout",
     "output_type": "stream",
     "text": [
      "Breusch-Pagan test:\n"
     ]
    },
    {
     "ename": "NameError",
     "evalue": "name 'bp_test' is not defined",
     "output_type": "error",
     "traceback": [
      "\u001b[31m---------------------------------------------------------------------------\u001b[39m",
      "\u001b[31mNameError\u001b[39m                                 Traceback (most recent call last)",
      "\u001b[36mCell\u001b[39m\u001b[36m \u001b[39m\u001b[32mIn[5]\u001b[39m\u001b[32m, line 24\u001b[39m\n\u001b[32m     22\u001b[39m bp_labels = [\u001b[33m'\u001b[39m\u001b[33mLM stat\u001b[39m\u001b[33m'\u001b[39m, \u001b[33m'\u001b[39m\u001b[33mLM p-value\u001b[39m\u001b[33m'\u001b[39m, \u001b[33m'\u001b[39m\u001b[33mF-stat\u001b[39m\u001b[33m'\u001b[39m, \u001b[33m'\u001b[39m\u001b[33mF p-value\u001b[39m\u001b[33m'\u001b[39m]\n\u001b[32m     23\u001b[39m \u001b[38;5;28mprint\u001b[39m(\u001b[33m\"\u001b[39m\u001b[33mBreusch-Pagan test:\u001b[39m\u001b[33m\"\u001b[39m)\n\u001b[32m---> \u001b[39m\u001b[32m24\u001b[39m \u001b[38;5;28;01mfor\u001b[39;00m bp_label, bp_test \u001b[38;5;129;01min\u001b[39;00m \u001b[38;5;28mzip\u001b[39m(bp_labels, bp_test):\n\u001b[32m     25\u001b[39m     \u001b[38;5;28mprint\u001b[39m(\u001b[33mf\u001b[39m\u001b[33m\"\u001b[39m\u001b[38;5;132;01m{\u001b[39;00mbp_label\u001b[38;5;132;01m}\u001b[39;00m\u001b[33m: \u001b[39m\u001b[38;5;132;01m{\u001b[39;00mbp_test\u001b[38;5;132;01m:\u001b[39;00m\u001b[33m.4f\u001b[39m\u001b[38;5;132;01m}\u001b[39;00m\u001b[33m\"\u001b[39m)\n\u001b[32m     27\u001b[39m \u001b[38;5;66;03m# White test \u001b[39;00m\n",
      "\u001b[31mNameError\u001b[39m: name 'bp_test' is not defined"
     ]
    }
   ],
   "source": [
    "# Load dataframe\n",
    "df = pd.read_csv(df_path) \n",
    "\n",
    "# Data header\n",
    "y_col = \"brain_SIG\"\n",
    "x_cols = [\"PMA\", \"RVV\", \"brain_MD\", \"PTB\"]\n",
    "\n",
    "# Center data\n",
    "for x_col in x_cols:\n",
    "    df[x_col] -= df[x_col].mean()\n",
    "\n",
    "# Fit linear model\n",
    "formula = f\"{y_col} ~  {' + '.join(x_cols)}\"\n",
    "lm = smf.ols(formula=formula, data=df).fit()\n",
    "\n",
    "# Residuals and design matrix (exog)\n",
    "resid = lm.resid\n",
    "exog = lm.model.exog\n",
    "\n",
    "# Breusch-Pagan test\n",
    "bp_tests = het_breuschpagan(resid, exog)\n",
    "bp_labels = ['LM stat', 'LM p-value', 'F-stat', 'F p-value']\n",
    "print(\"Breusch-Pagan test:\")\n",
    "for bp_label, bp_test in zip(bp_labels, bp_test):\n",
    "    print(f\"{bp_label}: {bp_test:.4f}\")\n",
    "\n",
    "# White test \n",
    "hw_test = het_white(resid, exog)\n",
    "hw_labels = ['LM stat', 'LM p-value', 'F-stat', 'F p-value']\n",
    "print(\"\\nWhite test:\")\n",
    "for hw_label, hw_test in zip(hw_labels, hw_test):\n",
    "    print(f\"{hw_label}: {hw_test:.4f}\")"
   ]
  },
  {
   "cell_type": "markdown",
   "id": "eac7030b-ec96-4123-85dd-cfd1433a1b2b",
   "metadata": {},
   "source": [
    "## 5. Impact of outliers"
   ]
  },
  {
   "cell_type": "markdown",
   "id": "ff72383b-4552-4b73-8ecf-efa5d2e4fa16",
   "metadata": {},
   "source": [
    "### 5.a. Robust linear models\n",
    "We investigated the impact of outlier data points by employing separate robust linear models, which produced results consistent with those from LMEs. This suggested that any potential outliers were not influential enough to alter the model parameters. In other words, rather than incorporating robust estimators directly into mixed-effects models, we performed a diagnostic check by comparing our LME results to those from robust models."
   ]
  },
  {
   "cell_type": "code",
   "execution_count": null,
   "id": "1ec630f6-75ee-4bf7-b4a2-6663c9ccee15",
   "metadata": {},
   "outputs": [],
   "source": [
    "# Set file path\n",
    "summary_path = os.path.join(summary_dir, \"diagnostic_experiment2.txt\")\n",
    "\n",
    "# Load dataframe\n",
    "df = pd.read_csv(df_path) \n",
    "\n",
    "# Data header\n",
    "y_col = \"brain_SIG\"\n",
    "x_cols = [\"PMA\", \"RVV\", \"brain_MD\", \"PTB\"]\n",
    "\n",
    "# Center data\n",
    "for x_col in x_cols:\n",
    "    df[x_col] -= df[x_col].mean()\n",
    "\n",
    "# Fit linear model\n",
    "formula = f\"{y_col} ~  {' + '.join(x_cols)}\"\n",
    "lm = smf.ols(formula=formula, data=df).fit()\n",
    "\n",
    "#\n",
    "exog = df[x_cols]\n",
    "exog = add_constant(exog)\n",
    "endog = df[y_col]\n",
    "\n",
    "# Fit robust model\n",
    "rlm = sm.RLM(endog, exog, M=sm.robust.norms.HuberT()).fit()\n",
    "\n",
    "# Initialize output directory\n",
    "output_dir = os.path.dirname(summary_path)\n",
    "os.makedirs(output_dir, exist_ok=True)\n",
    "\n",
    "# Write summary\n",
    "with open(summary_path, \"w\") as fh:\n",
    "    fh.write(lm.summary().as_text())\n",
    "    fh.write(\"\\n\\n\")\n",
    "    fh.write(rlm.summary().as_text())\n",
    "\n",
    "# Model summary\n",
    "f = open(summary_path, 'r')\n",
    "file_contents = f.read()\n",
    "print(file_contents)\n",
    "f.close()"
   ]
  },
  {
   "cell_type": "markdown",
   "id": "1df13898-7a9f-4ff4-9d49-d68e27c4e754",
   "metadata": {},
   "source": [
    "### 5.b. Leverage points\n",
    "To assess the effect of potential leverage points ($x$-extrema points), we excluded points outside the $x$-range $1\\%-99\\%$ percentiles. The results were consistent with those of the LME models fitted to all data points, suggesting that no leverage point had corrupted our regression analysis."
   ]
  },
  {
   "cell_type": "code",
   "execution_count": null,
   "id": "6a1e58a7-111b-445c-8450-a9b5f9c235dd",
   "metadata": {},
   "outputs": [],
   "source": [
    "# Data path\n",
    "summary_path = os.path.join(summary_dir, \"diagnostic_experiment3.txt\")\n",
    "\n",
    "# Load dataframe\n",
    "df = pd.read_csv(df_path) \n",
    "\n",
    "# Date header\n",
    "y_col = \"brain_SIG\"\n",
    "x_cols = [\"PMA\", \"RVV\", \"brain_MD\", \"PTB\"]\n",
    "\n",
    "# Center data\n",
    "for x_col in x_cols:\n",
    "    df[x_col] -= df[x_col].mean()\n",
    "\n",
    "# Fit linear model\n",
    "formula = f\"{y_col} ~  {' + '.join(x_cols)}\"\n",
    "lm = smf.ols(formula=formula, data=df).fit()\n",
    "\n",
    "# 1%-99% percentile for all regressors\n",
    "q_lows = []\n",
    "q_his = []\n",
    "for x_col in x_cols:\n",
    "    q_lows += [df[x_col].quantile(0.01)]\n",
    "    q_his += [df[x_col].quantile(0.99)]\n",
    "\n",
    "# Merge mask\n",
    "mask = np.ones(len(df), dtype=bool)\n",
    "for i, x_col in enumerate(x_cols):\n",
    "    mask &= (df[x_col] > q_lows[i]) & (df[x_col] < q_his[i])\n",
    "df = df[mask]\n",
    "\n",
    "# Fit linear model\n",
    "lm_lp = smf.ols(formula=formula, data=df).fit()\n",
    "\n",
    "# Initialize output directory\n",
    "output_dir = os.path.dirname(summary_path)\n",
    "os.makedirs(output_dir, exist_ok=True)\n",
    "\n",
    "# Write summary\n",
    "with open(summary_path, \"w\") as fh:\n",
    "    fh.write(lm.summary().as_text())\n",
    "    fh.write(\"\\n\\n\")\n",
    "    fh.write(lm_lp.summary().as_text())\n",
    "\n",
    "# Model summary\n",
    "f = open(summary_path, 'r')\n",
    "file_contents = f.read()\n",
    "print(file_contents)\n",
    "f.close()"
   ]
  }
 ],
 "metadata": {
  "kernelspec": {
   "display_name": "Python 3 (ipykernel)",
   "language": "python",
   "name": "python3"
  },
  "language_info": {
   "codemirror_mode": {
    "name": "ipython",
    "version": 3
   },
   "file_extension": ".py",
   "mimetype": "text/x-python",
   "name": "python",
   "nbconvert_exporter": "python",
   "pygments_lexer": "ipython3",
   "version": "3.13.5"
  }
 },
 "nbformat": 4,
 "nbformat_minor": 5
}
