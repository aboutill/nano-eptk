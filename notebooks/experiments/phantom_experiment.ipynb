{
 "cells": [
  {
   "cell_type": "markdown",
   "id": "fd8300c3-3db8-4ac3-bfea-d61f160776c2",
   "metadata": {},
   "source": [
    "# GRE phantom experiment\n",
    "This notebook presents the GRE phantom experiment performed to assess the accuracy and robustness of the EPT reconstruction method used in this study. We reconstructed the electrical properties of three phantoms with varying saline concentrations ($c_1 = 3\\, [\\textrm{g.L}^{-1}]$, $c_2 = 6\\, [\\textrm{g.L}^{-1}]$ and $c_3 = 9\\, [\\textrm{g.L}^{-1}]$). \n",
    "\n",
    "**Acquisition information:** MRI scans of the spherical phantoms (internal diameter $100\\, \\textrm{mm}$) were performed on a 3T ($f_0 = 128$ MHz) Philips Achieva scanner. We used the same multi-coil sensitivity reference gradient echo (GRE) SENSE sequence as in the neonatal data. This corresponded to complex low resolution ($2.6$ mm isotropic) sensitivity reference scans, including $32$ channels from the array head coil and one from the body coil reference. \n",
    "\n",
    "We reconstructed the EPs using the SAEP method and applied the same processing pipeline as for the neonatal GRE data.\n",
    "\n",
    "Part of nano-eptk package by Arnaud Boutillon (arnaud.boutillon@kcl.ac.uk)."
   ]
  },
  {
   "cell_type": "markdown",
   "id": "bfd6c9df-565f-435c-9ebd-dfafa2fd422b",
   "metadata": {},
   "source": [
    "## Python environment setting"
   ]
  },
  {
   "cell_type": "code",
   "execution_count": 1,
   "id": "8ac5e546-7061-430c-b0e6-d37f887c5cbb",
   "metadata": {},
   "outputs": [],
   "source": [
    "import os\n",
    "import sys\n",
    "import json\n",
    "import yaml\n",
    "\n",
    "import seaborn as sns\n",
    "import matplotlib.pyplot as plt\n",
    "\n",
    "base_dir = os.path.abspath(os.path.join(os.path.pardir, os.path.pardir))\n",
    "sys.path.append(os.path.join(base_dir))\n",
    "\n",
    "from utils.eprecon import *\n",
    "from utils.preprocess import *\n",
    "from utils.tools import *\n",
    "from utils.mask import *\n",
    "\n",
    "sns.set_theme(style=\"darkgrid\")"
   ]
  },
  {
   "cell_type": "markdown",
   "id": "d0600bfd-60d2-4629-a9e2-ef7c70c249b7",
   "metadata": {},
   "source": [
    "## 1. Image pre-processing"
   ]
  },
  {
   "cell_type": "markdown",
   "id": "92b23b2d-f76f-49e5-9ab0-9cc333b3db52",
   "metadata": {},
   "source": [
    "### 1.a. Gibbs artefacts correction\n",
    "Gibbs ringing artefacts were removed from the low-resolution multi-channel complex GRE images using the complex-valued 3D sub-voxel shifts technique of MRtrix."
   ]
  },
  {
   "cell_type": "code",
   "execution_count": 2,
   "id": "e5b6c287-4ce5-4fa0-93da-a7ede1301f1e",
   "metadata": {},
   "outputs": [],
   "source": [
    "# Number of phantoms\n",
    "n = 3\n",
    "\n",
    "# Set directories\n",
    "phantom_dir = os.path.join(base_dir, \"data\", \"phantoms\")\n",
    "deriv_dir = os.path.join(phantom_dir, \"derivatives\")\n",
    "\n",
    "# Set file path\n",
    "mag_paths = [os.path.join(phantom_dir, f\"ph{i}_mag.nii.gz\") for i in range(n)]\n",
    "pha_paths = [os.path.join(phantom_dir,  f\"ph{i}_pha.nii.gz\") for i in range(n)]\n",
    "mag_degibbs_paths = [os.path.join(deriv_dir, f\"ph{i}_mag_degibbs.nii.gz\") for i in range(n)]\n",
    "pha_degibbs_paths = [os.path.join(deriv_dir, f\"ph{i}_pha_degibbs.nii.gz\") for i in range(n)]\n",
    "\n",
    "# iter over phantoms\n",
    "for i in range(n):\n",
    "    # Run DeGibbs correction\n",
    "    degibbs(\n",
    "        input_mag_path=mag_paths[i], \n",
    "        input_pha_path=pha_paths[i],\n",
    "        output_mag_path=mag_degibbs_paths[i], \n",
    "        output_pha_path=pha_degibbs_paths[i],\n",
    "        k_window=[6, 90, 7, 90, 32, 93],\n",
    "    )"
   ]
  },
  {
   "cell_type": "markdown",
   "id": "a18ce3b4-0577-4637-b283-27b53d3b5e47",
   "metadata": {},
   "source": [
    "### 1.b. Reference coil extraction\n",
    "The body coil was used for registration and normalization purposes."
   ]
  },
  {
   "cell_type": "code",
   "execution_count": 3,
   "id": "ab1c03a2-5abe-46a9-8628-d11f49f71485",
   "metadata": {},
   "outputs": [],
   "source": [
    "# Set file path\n",
    "mag_ref_paths = [os.path.join(deriv_dir, f\"ph{i}_mag_ref.nii.gz\") for i in range(n)]\n",
    "\n",
    "# Iter over phantoms\n",
    "for i in range(n):\n",
    "    # Extract reference coil\n",
    "    extract_reference_coil(\n",
    "        input_mag_path=mag_degibbs_paths[i],\n",
    "        output_mag_path=mag_ref_paths[i],\n",
    "        ref_coil_idx=32,\n",
    "    )"
   ]
  },
  {
   "cell_type": "markdown",
   "id": "00664a2d-dc55-463d-9a5f-d5b085a56cab",
   "metadata": {},
   "source": [
    "### 1.c. Binary segmentation\n",
    "The binary masks used to define the ROI were created using Otsu thresholding."
   ]
  },
  {
   "cell_type": "code",
   "execution_count": 4,
   "id": "6a8f0fbc-29eb-4f0b-8ae5-85a61b50027a",
   "metadata": {},
   "outputs": [],
   "source": [
    "# Set file path\n",
    "mask_paths = [os.path.join(deriv_dir, f\"ph{i}_mask.nii.gz\") for i in range(n)]\n",
    "\n",
    "# Iter over phantoms\n",
    "for i in range(n):\n",
    "    # Aplly binary segmentation\n",
    "    binary_segmentation(\n",
    "        input_img_path=mag_ref_paths[i],\n",
    "        output_mask_path=mask_paths[i], \n",
    "    )"
   ]
  },
  {
   "cell_type": "markdown",
   "id": "718ce862-387a-4b7b-9079-7db026a4f119",
   "metadata": {},
   "source": [
    "## 2. Electrical properties reconstruction from GRE phantoms"
   ]
  },
  {
   "cell_type": "markdown",
   "id": "eb6a801c-04e5-48a3-89e8-4cc4bdeb9e57",
   "metadata": {},
   "source": [
    "### 2.a. Conductivity and permittivity reconstruction using the single-acquisition electrical properties (SAEP) pipeline\n",
    "The $\\sigma$ and $\\epsilon_r$ of the phantoms were reconstructed inside the mask using the SAEP method.\n",
    "\n",
    "**Pipeline parameters:** Gaussian smoothing STD kernel $3.9$ mm, $12$ modes SVD truncation, erosion radius $15.6$ mm."
   ]
  },
  {
   "cell_type": "code",
   "execution_count": 5,
   "id": "939d7f5b-3a3c-45ca-b57f-fd6997987dc7",
   "metadata": {},
   "outputs": [],
   "source": [
    "# Set directories\n",
    "ep_saep_dir = os.path.join(phantom_dir, \"ep_recon_saep\")\n",
    "deriv_saep_dir = os.path.join(phantom_dir, \"derivatives\")\n",
    "config_dir = os.path.join(base_dir, \"config\")\n",
    "\n",
    "# Set file path\n",
    "sig_paths = [os.path.join(ep_saep_dir, f\"ph{i}_sig.nii.gz\") for i in range(n)]\n",
    "eps_paths = [os.path.join(ep_saep_dir, f\"ph{i}_eps.nii.gz\") for i in range(n)]\n",
    "ep_metrics_paths = [os.path.join(ep_saep_dir, f\"ph{i}_ep_metrics.json\") for i in range(n)]\n",
    "mask_eroded_paths = [os.path.join(deriv_saep_dir, f\"ph{i}_mask_eroded.nii.gz\") for i in range(n)]\n",
    "sig_eroded_paths = [os.path.join(ep_saep_dir, f\"ph{i}_sig_eroded.nii.gz\") for i in range(n)]\n",
    "eps_eroded_paths = [os.path.join(ep_saep_dir, f\"ph{i}_eps_eroded.nii.gz\") for i in range(n)]\n",
    "config_path = os.path.join(config_dir, \"phantom_gre_saep.yaml\")\n",
    "\n",
    "# Load pipeline configuration\n",
    "kwargs = yaml.safe_load(open(config_path))\n",
    "\n",
    "# Iter over phantoms\n",
    "for i in range(n):\n",
    "    # Run SAEP pipeline\n",
    "    saep_pipeline(\n",
    "        input_mag_path=mag_degibbs_paths[i],\n",
    "        input_pha_path=pha_degibbs_paths[i],\n",
    "        input_mask_path=mask_paths[i],\n",
    "        output_sig_path=sig_paths[i],\n",
    "        output_eps_path=eps_paths[i],\n",
    "        output_ep_metrics_path=ep_metrics_paths[i],\n",
    "        output_mask_eroded_path=mask_eroded_paths[i],\n",
    "        output_sig_eroded_path=sig_eroded_paths[i],\n",
    "        output_eps_eroded_path=eps_eroded_paths[i],\n",
    "        **kwargs,\n",
    "    )"
   ]
  },
  {
   "cell_type": "markdown",
   "id": "51d53a0d-9837-4f87-8e1e-c2406749317b",
   "metadata": {},
   "source": [
    "#### Conductivity and permittivity results"
   ]
  },
  {
   "cell_type": "code",
   "execution_count": 6,
   "id": "35ef828e-5891-4ea5-87e6-9ec16f5e4af0",
   "metadata": {},
   "outputs": [
    {
     "name": "stdout",
     "output_type": "stream",
     "text": [
      "Phantom 0:\n",
      "Predicted conductivity: 0.45 ± 0.30 [S.m⁻¹]\n",
      "Ground truth conductivity: 0.56 [S.m⁻¹]\n",
      "Relative error: 20.14 %\n",
      "Relative STD: 53.27 %\n",
      "Predicted permittivity: 69.96 ± 58.28\n",
      "Ground truth permittivity: 80.56\n",
      "Relative error: 13.16 %\n",
      "Relative STD: 72.34 %\n",
      "\n",
      "Phantom 1:\n",
      "Predicted conductivity: 0.93 ± 0.47 [S.m⁻¹]\n",
      "Ground truth conductivity: 1.07 [S.m⁻¹]\n",
      "Relative error: 12.85 %\n",
      "Relative STD: 44.14 %\n",
      "Predicted permittivity: 66.25 ± 60.05\n",
      "Ground truth permittivity: 77.81\n",
      "Relative error: 14.85 %\n",
      "Relative STD: 77.17 %\n",
      "\n",
      "Phantom 2:\n",
      "Predicted conductivity: 1.41 ± 0.45 [S.m⁻¹]\n",
      "Ground truth conductivity: 1.53 [S.m⁻¹]\n",
      "Relative error: 7.92 %\n",
      "Relative STD: 29.21 %\n",
      "Predicted permittivity: 61.39 ± 65.48\n",
      "Ground truth permittivity: 75.13\n",
      "Relative error: 18.29 %\n",
      "Relative STD: 87.16 %\n",
      "\n"
     ]
    }
   ],
   "source": [
    "# Set file path\n",
    "gt_ep_metrics_paths = [os.path.join(phantom_dir, f\"ph{i}_gt_ep_metrics.json\") for i in range(n)]\n",
    "\n",
    "# Init dataframe\n",
    "df = {}\n",
    "\n",
    "#\n",
    "for i in range(n):\n",
    "    # Load EP metrics\n",
    "    ep_metrics = json.load(open(ep_metrics_paths[i]))\n",
    "    gt_ep_metrics = json.load(open(gt_ep_metrics_paths[i]))\n",
    "    \n",
    "    # Display metrics\n",
    "    print(f\"Phantom {i}:\")\n",
    "    print(f\"Predicted conductivity: {ep_metrics['SIG']:.2f} ± {ep_metrics['SIG_std']:.2f} [S.m⁻¹]\")\n",
    "    print(f\"Ground truth conductivity: {gt_ep_metrics['GT_SIG']:.2f} [S.m⁻¹]\")\n",
    "    print(f\"Relative error: {np.abs(ep_metrics['SIG'] - gt_ep_metrics['GT_SIG']) / gt_ep_metrics['GT_SIG'] * 100:.2f} %\")\n",
    "    print(f\"Relative STD: {ep_metrics['SIG_std'] / gt_ep_metrics['GT_SIG'] * 100:.2f} %\")\n",
    "    \n",
    "    print(f\"Predicted permittivity: {ep_metrics['EPS']:.2f} ± {ep_metrics['EPS_std']:.2f}\")\n",
    "    print(f\"Ground truth permittivity: {gt_ep_metrics['GT_EPS']:.2f}\")\n",
    "    print(f\"Relative error: {np.abs(ep_metrics['EPS'] - gt_ep_metrics['GT_EPS']) / gt_ep_metrics['GT_EPS'] * 100:.2f} %\")\n",
    "    print(f\"Relative STD: {ep_metrics['EPS_std'] / gt_ep_metrics['GT_EPS'] * 100:.2f} %\\n\")\n",
    "\n",
    "    # Concatenate dataframes for plotting\n",
    "    for key, val in {**ep_metrics, **gt_ep_metrics}.items():\n",
    "        df.setdefault(key, []).append(val)"
   ]
  },
  {
   "cell_type": "markdown",
   "id": "2a0f60ce-8e86-4f7f-a07d-7fdd639391ce",
   "metadata": {},
   "source": [
    "### 2.b. Comparison of ground truth and predicted electrical properties measurements "
   ]
  },
  {
   "cell_type": "code",
   "execution_count": 7,
   "id": "c29d3e6a-7c83-4764-9b08-1b9b481d60c5",
   "metadata": {},
   "outputs": [
    {
     "data": {
      "image/png": "[encoded data removed]",
      "text/plain": [
       "<Figure size 900x400 with 2 Axes>"
      ]
     },
     "metadata": {},
     "output_type": "display_data"
    }
   ],
   "source": [
    "# Set file path\n",
    "plot_path = os.path.join(base_dir, \"plots\", \"experiments\", \"phantom_experiment.png\")\n",
    "\n",
    "# EPs labels\n",
    "EPs = [\"SIG\", \"EPS\"]\n",
    "\n",
    "# Initialize plot\n",
    "fig, axes = plt.subplots(1, 2, figsize=(9,4))\n",
    "fig.suptitle(r\"GRE phantoms - $\\sigma$ and $\\epsilon_r$ measurements\")\n",
    "\n",
    "# \n",
    "for i, EP in enumerate(EPs):\n",
    "\n",
    "    # Plot reference line\n",
    "    axes[i].plot(df[f\"GT_{EP}\"], df[f\"GT_{EP}\"], \"-o\", label=\"GT\")\n",
    "    \n",
    "    # Plot predictions with error bars\n",
    "    axes[i].errorbar(df[f\"GT_{EP}\"], df[EP], yerr=df[f\"{EP}_std\"], fmt='o', label=\"GRE\")\n",
    "    \n",
    "    # Set labels and title\n",
    "    axes[i].set_title(f\"Phantoms {r'$\\sigma$' if i == 0 else r'$\\epsilon_r$'}\")\n",
    "    axes[i].set_xlabel(f\"Ground truth {r'$\\sigma$ [S.m⁻¹]' if i == 0 else r'$\\epsilon_r$'}\")\n",
    "    axes[i].set_ylabel(f\"Predicted {r'$\\sigma$ [S.m⁻¹]' if i == 0 else r'$\\epsilon_r$'}\")\n",
    "    axes[i].legend(loc=\"lower right\")\n",
    "\n",
    "# Adjust layout\n",
    "fig.tight_layout()\n",
    "\n",
    "# Save plot\n",
    "output_dir = os.path.dirname(plot_path)\n",
    "os.makedirs(output_dir, exist_ok=True)\n",
    "plt.savefig(plot_path, bbox_inches='tight', dpi=300)"
   ]
  }
 ],
 "metadata": {
  "kernelspec": {
   "display_name": "Python 3 (ipykernel)",
   "language": "python",
   "name": "python3"
  },
  "language_info": {
   "codemirror_mode": {
    "name": "ipython",
    "version": 3
   },
   "file_extension": ".py",
   "mimetype": "text/x-python",
   "name": "python",
   "nbconvert_exporter": "python",
   "pygments_lexer": "ipython3",
   "version": "3.13.5"
  }
 },
 "nbformat": 4,
 "nbformat_minor": 5
}
